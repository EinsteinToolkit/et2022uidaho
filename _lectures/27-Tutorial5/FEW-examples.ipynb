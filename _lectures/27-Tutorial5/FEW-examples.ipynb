{
 "cells": [
  {
   "cell_type": "markdown",
   "id": "6165fc2f",
   "metadata": {},
   "source": [
    "# Fast EMRI Waveforms Example\n",
    "\n",
    "Fast EMRI Waveforms (FEW) can be downloaded from: https://urldefense.com/v3/__https://bhptoolkit.org/FastEMRIWaveforms_main.html__;!!JYXjzlvb!hC5VmNyorNkdDTKMwu-F3LlCdj_WPuyGJTGJNfZKzurzoptO2di_lVSLyV_A6nqeJIbU5_LeD6ZljoS3UymfppS2_SU$ . Take a look at the `README.md` file for installation instructions.\n",
    "\n",
    "This tutorial is just a small subset of the extensive tutorial's included with the package.\n",
    "\n",
    "Here we will use FEW on the CPU but it works seamless with GPUs where it can generate year-long waveforms in subsecond times. FEW is also very modular making it easy to extend as new self-force calculations become available. Michael Katz (the lead developer) has done a really great job with the FEW package."
   ]
  },
  {
   "cell_type": "code",
   "execution_count": 148,
   "id": "d1b2b404",
   "metadata": {},
   "outputs": [],
   "source": [
    "import numpy as np\n",
    "import matplotlib.pyplot as plt"
   ]
  },
  {
   "cell_type": "code",
   "execution_count": 83,
   "id": "f7b411f0",
   "metadata": {},
   "outputs": [],
   "source": [
    "# The below commands make the font and image size bigger\n",
    "plt.rcParams.update({'font.size': 22})\n",
    "plt.rcParams[\"figure.figsize\"] = (15,10)"
   ]
  },
  {
   "cell_type": "markdown",
   "id": "26794c9f",
   "metadata": {},
   "source": [
    "## Quick start: adiabatic Schwarzschild model\n",
    "\n",
    "Let's say you just want to generate a waveform using FEW. Let's do that using the relativistic Schwarzschild model presented in Phys. Rev. Lett. 126, 051102 (2021), [arXiv:2008.06071](https://arxiv.org/abs/2008.06071) and Phys. Rev. D 104, 064047 (2021), [arXiv:2104.04582](https://arxiv.org/abs/2104.04582). In this model the trajectory is driven by using a flux-balance law and the waveform amplitudes are interpolated using a ROMAN network (Reduced-Order Modeling with Artifical Neurons -- see Phys. Rev. Lett. 122, 211101, [arXiv:1811.05491](https://arxiv.org/abs/1811.05491)).\n",
    "\n",
    "First we need to important the generic interface and the waveform model we want to use. The generic interface returns the waveform in the solar system barycenter frame."
   ]
  },
  {
   "cell_type": "code",
   "execution_count": null,
   "id": "2acefd27",
   "metadata": {},
   "outputs": [],
   "source": []
  },
  {
   "cell_type": "markdown",
   "id": "c679129b",
   "metadata": {},
   "source": [
    "This next command will download all the necessary data for the relativistic model the first time you run it"
   ]
  },
  {
   "cell_type": "code",
   "execution_count": null,
   "id": "a0a717f0",
   "metadata": {},
   "outputs": [],
   "source": []
  },
  {
   "cell_type": "markdown",
   "id": "0504bf94",
   "metadata": {},
   "source": [
    "We now need to set the parameters of the binary"
   ]
  },
  {
   "cell_type": "code",
   "execution_count": null,
   "id": "547c97e8",
   "metadata": {},
   "outputs": [],
   "source": []
  },
  {
   "cell_type": "markdown",
   "id": "a3df0dcd",
   "metadata": {},
   "source": [
    "# Compute just the (2,2) mode and mismatch with full waveform"
   ]
  },
  {
   "cell_type": "code",
   "execution_count": 138,
   "id": "696780c4",
   "metadata": {},
   "outputs": [],
   "source": []
  },
  {
   "cell_type": "markdown",
   "id": "4ca5e094",
   "metadata": {},
   "source": [
    "We will use the FastSchwarzschildEccentricFlux model directly which gives the waveform in the source frame"
   ]
  },
  {
   "cell_type": "code",
   "execution_count": 139,
   "id": "419a1333",
   "metadata": {},
   "outputs": [],
   "source": []
  },
  {
   "cell_type": "code",
   "execution_count": null,
   "id": "c3eb63d5",
   "metadata": {},
   "outputs": [],
   "source": []
  },
  {
   "cell_type": "markdown",
   "id": "c52d233b",
   "metadata": {},
   "source": [
    "## Phase space trajectory"
   ]
  },
  {
   "cell_type": "code",
   "execution_count": null,
   "id": "df70e03b",
   "metadata": {},
   "outputs": [],
   "source": []
  },
  {
   "cell_type": "markdown",
   "id": "49059d33",
   "metadata": {},
   "source": [
    "# Waveforms for generic insprials into a Kerr black hole\n",
    "\n",
    "FEW does not yet currently support adiabatic, relativistic, inspirals into a Kerr black hole but it can use the latest kludge models with 5PN trajectories to compute waveforms with all the correct phenomological features. This is very useful for mock data challenges."
   ]
  },
  {
   "cell_type": "code",
   "execution_count": 89,
   "id": "96107e41",
   "metadata": {},
   "outputs": [],
   "source": []
  }
 ],
 "metadata": {
  "kernelspec": {
   "display_name": "Python 3 (ipykernel)",
   "language": "python",
   "name": "python3"
  },
  "language_info": {
   "codemirror_mode": {
    "name": "ipython",
    "version": 3
   },
   "file_extension": ".py",
   "mimetype": "text/x-python",
   "name": "python",
   "nbconvert_exporter": "python",
   "pygments_lexer": "ipython3",
   "version": "3.7.12"
  }
 },
 "nbformat": 4,
 "nbformat_minor": 5
}
